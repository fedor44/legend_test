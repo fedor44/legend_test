{
  "nbformat": 4,
  "nbformat_minor": 0,
  "metadata": {
    "colab": {
      "provenance": [],
      "authorship_tag": "ABX9TyOXx6TKXSokhVJQaIqbVUKg",
      "include_colab_link": true
    },
    "kernelspec": {
      "name": "python3",
      "display_name": "Python 3"
    },
    "language_info": {
      "name": "python"
    }
  },
  "cells": [
    {
      "cell_type": "markdown",
      "metadata": {
        "id": "view-in-github",
        "colab_type": "text"
      },
      "source": [
        "<a href=\"https://colab.research.google.com/github/fedor44/legend_test/blob/main/Untitled17.ipynb\" target=\"_parent\"><img src=\"https://colab.research.google.com/assets/colab-badge.svg\" alt=\"Open In Colab\"/></a>"
      ]
    },
    {
      "cell_type": "code",
      "execution_count": 8,
      "metadata": {
        "colab": {
          "base_uri": "https://localhost:8080/",
          "height": 311
        },
        "id": "HLvphBKdOxKG",
        "outputId": "95fc9d19-e97f-40ef-9567-f87f89cb9876"
      },
      "outputs": [
        {
          "output_type": "execute_result",
          "data": {
            "text/plain": [
              "<function matplotlib.pyplot.show(*args, **kw)>"
            ]
          },
          "metadata": {},
          "execution_count": 8
        },
        {
          "output_type": "display_data",
          "data": {
            "text/plain": [
              "<Figure size 432x288 with 1 Axes>"
            ],
            "image/png": "[encoded data removed]"
          },
          "metadata": {
            "needs_background": "light"
          }
        }
      ],
      "source": [
        "#!sudo apt-get install -y fonts-nanum\n",
        "#!sudo fc-cache -fv\n",
        "#!rm ~/.cache/matplotlib -rf\n",
        "\n",
        "import pandas as pd\n",
        "import matplotlib.pyplot as plt\n",
        "\n",
        "# 한글 관련 설정\n",
        "plt.rc('font', family='NanumGothic')\n",
        "plt.rc('axes', unicode_minus=False)\n",
        "\n",
        "# 기본 값 세팅\n",
        "사모예드 = pd.DataFrame({\"길이\":[75, 77, 86, 79, 83, 86, 88, 83],\n",
        "                         \"높이\":[56, 57, 53, 60, 49, 50, 61, 53]\n",
        "                        })\n",
        "\n",
        "푸들 = pd.DataFrame({\"길이\":[34, 38, 41, 30, 38, 37, 35, 41],\n",
        "                     \"높이\":[22, 19, 30, 21, 25, 24, 18, 28]\n",
        "                    })\n",
        "\n",
        "# 각 plot 값 세팅\n",
        "x1 = 사모예드[\"길이\"]\n",
        "y1 = 사모예드[\"높이\"]\n",
        "x2 = 푸들[\"길이\"]\n",
        "y2 = 푸들[\"높이\"]\n",
        "plt.title(\"강아지 종류별 사이즈\")\n",
        "plt.plot(x1, y1, c = \"r\", marker = \"s\", label = \"사모예드\")\n",
        "plt.plot(x2, y2, c = \"b\", marker = \"^\", label = \"푸들\")\n",
        "plt.xlabel(\"길이\")\n",
        "plt.ylabel(\"높이\")\n",
        "plt.legend(loc = 2)\n",
        "\n",
        "# 결과 출력\n",
        "plt.show"
      ]
    }
  ]
}